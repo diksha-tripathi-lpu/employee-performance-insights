{
 "cells": [
  {
   "cell_type": "markdown",
   "id": "4a63b265",
   "metadata": {},
   "source": [
    "### 📌 Step 1: Import Libraries"
   ]
  },
  {
   "cell_type": "code",
   "execution_count": null,
   "id": "5e0bbb71",
   "metadata": {},
   "outputs": [],
   "source": [
    "import pandas as pd\n",
    "import numpy as np\n",
    "import matplotlib.pyplot as plt\n",
    "import seaborn as sns\n",
    "\n",
    "from sklearn.preprocessing import MinMaxScaler\n",
    "from sklearn.cluster import KMeans\n",
    "from sklearn.model_selection import train_test_split\n",
    "from sklearn.ensemble import RandomForestClassifier\n",
    "from sklearn.metrics import accuracy_score, confusion_matrix, classification_report"
   ]
  },
  {
   "cell_type": "markdown",
   "id": "f97d1e47",
   "metadata": {},
   "source": [
    "### 📌 Step 2: Load the CSV"
   ]
  },
  {
   "cell_type": "code",
   "execution_count": null,
   "id": "db6ed6bc",
   "metadata": {},
   "outputs": [],
   "source": [
    "df = pd.read_csv(\"employee_performance_data.csv\")\n",
    "print(\"✅ Data Loaded Successfully\")\n",
    "print(\"Dataset shape:\", df.shape)\n",
    "df.head()"
   ]
  },
  {
   "cell_type": "markdown",
   "id": "e6ce4c0d",
   "metadata": {},
   "source": [
    "### 📌 Step 3: Preprocessing"
   ]
  },
  {
   "cell_type": "code",
   "execution_count": null,
   "id": "32e83187",
   "metadata": {},
   "outputs": [],
   "source": [
    "print(\"\\nMissing Values:\\n\", df.isnull().sum())\n",
    "df.drop_duplicates(inplace=True)\n",
    "print(\"\\nData Types:\\n\", df.dtypes)"
   ]
  },
  {
   "cell_type": "code",
   "execution_count": null,
   "id": "77a4741e",
   "metadata": {},
   "outputs": [],
   "source": [
    "# Encode categorical columns\n",
    "df_encoded = pd.get_dummies(df, columns=[\"Department\", \"Team\"], drop_first=True)"
   ]
  },
  {
   "cell_type": "code",
   "execution_count": null,
   "id": "db6c0bea",
   "metadata": {},
   "outputs": [],
   "source": [
    "# Normalize numeric features\n",
    "scaler = MinMaxScaler()\n",
    "numeric = [\"Task_Completion_Efficiency\", \"Attendance_Regularity\", \"Feedback_Rating\", \"Length_of_Service_Years\"]\n",
    "df_scaled = scaler.fit_transform(df[numeric])"
   ]
  },
  {
   "cell_type": "markdown",
   "id": "88a3ecaf",
   "metadata": {},
   "source": [
    "### 📌 Step 4: Elbow Method & KMeans Clustering"
   ]
  },
  {
   "cell_type": "code",
   "execution_count": null,
   "id": "90f6d75d",
   "metadata": {},
   "outputs": [],
   "source": [
    "inertia = []\n",
    "for k in range(2, 11):\n",
    "    kmeans = KMeans(n_clusters=k, random_state=42)\n",
    "    kmeans.fit(df_scaled)\n",
    "    inertia.append(kmeans.inertia_)\n",
    "\n",
    "plt.plot(range(2, 11), inertia, marker='o')\n",
    "plt.title(\"Elbow Method\")\n",
    "plt.xlabel(\"k (Number of Clusters)\")\n",
    "plt.ylabel(\"Inertia\")\n",
    "plt.grid(True)\n",
    "plt.show()"
   ]
  },
  {
   "cell_type": "code",
   "execution_count": null,
   "id": "4cbdd1d9",
   "metadata": {},
   "outputs": [],
   "source": [
    "# Apply KMeans with k=4\n",
    "kmeans = KMeans(n_clusters=4, random_state=42)\n",
    "df['Performance_Cluster'] = kmeans.fit_predict(df_scaled)\n",
    "\n",
    "df.groupby(\"Performance_Cluster\")[numeric].mean()"
   ]
  },
  {
   "cell_type": "markdown",
   "id": "ce41d9eb",
   "metadata": {},
   "source": [
    "### 📌 Step 5: EDA (Visual Insights)"
   ]
  },
  {
   "cell_type": "code",
   "execution_count": null,
   "id": "5bf87a11",
   "metadata": {},
   "outputs": [],
   "source": [
    "for col in numeric:\n",
    "    sns.histplot(df[col], kde=True)\n",
    "    plt.title(f\"Distribution of {col}\")\n",
    "    plt.show()"
   ]
  },
  {
   "cell_type": "code",
   "execution_count": null,
   "id": "80fdf76c",
   "metadata": {},
   "outputs": [],
   "source": [
    "sns.heatmap(df[numeric].corr(), annot=True, cmap=\"coolwarm\")\n",
    "plt.title(\"Feature Correlation\")\n",
    "plt.show()"
   ]
  },
  {
   "cell_type": "code",
   "execution_count": null,
   "id": "77d29b55",
   "metadata": {},
   "outputs": [],
   "source": [
    "sns.countplot(x='Performance_Cluster', data=df)\n",
    "plt.title(\"Employees per Cluster\")\n",
    "plt.show()"
   ]
  },
  {
   "cell_type": "markdown",
   "id": "8518b72d",
   "metadata": {},
   "source": [
    "### 📌 Step 6: Feature Engineering"
   ]
  },
  {
   "cell_type": "code",
   "execution_count": null,
   "id": "7080ae51",
   "metadata": {},
   "outputs": [],
   "source": [
    "df[\"Avg_Performance_Score\"] = (\n",
    "    df[\"Task_Completion_Efficiency\"] +\n",
    "    df[\"Attendance_Regularity\"] +\n",
    "    df[\"Feedback_Rating\"] * 20\n",
    ") / 3"
   ]
  },
  {
   "cell_type": "code",
   "execution_count": null,
   "id": "ba255361",
   "metadata": {},
   "outputs": [],
   "source": [
    "threshold = df[\"Avg_Performance_Score\"].quantile(0.80)\n",
    "df[\"High_Performer\"] = (df[\"Avg_Performance_Score\"] >= threshold).astype(int)"
   ]
  },
  {
   "cell_type": "markdown",
   "id": "9de0cc06",
   "metadata": {},
   "source": [
    "### 📌 Step 7: Build ML Model – Classification"
   ]
  },
  {
   "cell_type": "code",
   "execution_count": null,
   "id": "8539ba26",
   "metadata": {},
   "outputs": [],
   "source": [
    "X = df[[\"Task_Completion_Efficiency\", \"Attendance_Regularity\", \"Feedback_Rating\", \"Length_of_Service_Years\"]]\n",
    "y = df[\"High_Performer\"]\n",
    "\n",
    "X_train, X_test, y_train, y_test = train_test_split(X, y, test_size=0.2, random_state=42)\n",
    "\n",
    "model = RandomForestClassifier(random_state=42)\n",
    "model.fit(X_train, y_train)\n",
    "\n",
    "y_pred = model.predict(X_test)"
   ]
  },
  {
   "cell_type": "code",
   "execution_count": null,
   "id": "1d2003a3",
   "metadata": {},
   "outputs": [],
   "source": [
    "print(\"Accuracy:\", accuracy_score(y_test, y_pred))\n",
    "print(\"\\nConfusion Matrix:\\n\", confusion_matrix(y_test, y_pred))\n",
    "print(\"\\nClassification Report:\\n\", classification_report(y_test, y_pred))"
   ]
  },
  {
   "cell_type": "markdown",
   "id": "ec07df1b",
   "metadata": {},
   "source": [
    "### 📌 Step 8: Final Export for Power BI"
   ]
  },
  {
   "cell_type": "code",
   "execution_count": null,
   "id": "78ae5fcf",
   "metadata": {},
   "outputs": [],
   "source": [
    "df.to_csv(\"employee_data_with_clusters_and_labels.csv\", index=False)\n",
    "print(\"✅ Final dataset exported for Power BI.\")"
   ]
  }
 ],
 "metadata": {},
 "nbformat": 4,
 "nbformat_minor": 5
}